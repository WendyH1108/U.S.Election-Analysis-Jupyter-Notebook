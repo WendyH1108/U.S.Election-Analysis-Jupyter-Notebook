{
 "cells": [
  {
   "cell_type": "code",
   "execution_count": 25,
   "metadata": {},
   "outputs": [],
   "source": [
    "import pandas as pd\n",
    "import numpy as np\n",
    "import sklearn\n",
    "from sklearn.linear_model import LogisticRegression\n",
    "import datetime\n",
    "from sklearn.model_selection import train_test_split\n",
    "import seaborn as sns\n",
    "from collections import Counter\n",
    "import matplotlib.pyplot as plt\n",
    "from sklearn.linear_model import LinearRegression\n",
    "from sklearn.model_selection import train_test_split\n",
    "from sklearn.tree import DecisionTreeClassifier\n",
    "from sklearn import tree\n",
    "from sklearn.metrics import accuracy_score\n",
    "from sklearn.metrics import mean_squared_error\n"
   ]
  },
  {
   "cell_type": "code",
   "execution_count": 3,
   "metadata": {},
   "outputs": [],
   "source": [
    "unemployment = pd.read_csv(\"unemployment.csv\")\n",
    "primary = pd.read_csv(\"primary_results.csv\")\n",
    "facts = pd.read_csv(\"state_facts.csv\")\n",
    "#Link to all the data: https://drive.google.com/drive/folders/1hPOBj6RMRBDPX-xzkam07DLX8sofY9uw?usp=sharing"
   ]
  },
  {
   "cell_type": "markdown",
   "metadata": {},
   "source": [
    "# Preprocessing"
   ]
  },
  {
   "cell_type": "code",
   "execution_count": 4,
   "metadata": {},
   "outputs": [
    {
     "name": "stdout",
     "output_type": "stream",
     "text": [
      "Int64Index([     0,      1,      2,      3,      4,      5,      6,      7,\n",
      "                 8,      9,\n",
      "            ...\n",
      "            883242, 883243, 883244, 883245, 883246, 883247, 883248, 883249,\n",
      "            883250, 883251],\n",
      "           dtype='int64', length=26568)\n"
     ]
    }
   ],
   "source": [
    "#dictionary = sum of unemployment rate for each state\n",
    "unemployment.head()\n",
    "\n",
    "dictionary = {}\n",
    "print((unemployment[unemployment[\"State\"] == \"Mississippi\"]).index)\n",
    "\n",
    "for i in range(len(unemployment[\"State\"])):\n",
    "    if unemployment['State'][i] not in dictionary:\n",
    "        dictionary[unemployment['State'][i]] = unemployment['Rate'][i]\n",
    "    else:\n",
    "        dictionary[unemployment['State'][i]] = dictionary[unemployment['State'][i]] + unemployment['Rate'][i]"
   ]
  },
  {
   "cell_type": "code",
   "execution_count": 5,
   "metadata": {},
   "outputs": [],
   "source": [
    "#state is the count of each state (for calculating average unemployment rate)\n",
    "states = {}\n",
    "\n",
    "#python how to save dictionary as string and write into file\n",
    "\n",
    "for i in range(len(unemployment[\"State\"])):\n",
    "    if unemployment['State'][i] not in states:\n",
    "        states[unemployment['State'][i]] = 1\n",
    "    else:\n",
    "        states[unemployment['State'][i]] = states[unemployment['State'][i]] + 1"
   ]
  },
  {
   "cell_type": "code",
   "execution_count": 6,
   "metadata": {},
   "outputs": [],
   "source": [
    "#unemployment_rate is the average unemployment rate of each state\n",
    "unemployment_rate = {}\n",
    "for i in states:\n",
    "    unemployment_rate[i] = (dictionary[i]/states[i]) \n",
    "    "
   ]
  },
  {
   "cell_type": "code",
   "execution_count": 8,
   "metadata": {},
   "outputs": [
    {
     "name": "stdout",
     "output_type": "stream",
     "text": [
      "                unemployment\n",
      "Alabama             7.723844\n",
      "Arizona             9.274588\n",
      "Arkansas            6.782210\n",
      "California          9.045005\n",
      "Colorado            5.358946\n",
      "Connecticut         5.548534\n",
      "Delaware            5.041049\n",
      "Hawaii              5.730401\n",
      "Idaho               6.319992\n",
      "Illinois            6.548596\n",
      "Indiana             5.922725\n",
      "Iowa                4.236744\n",
      "Kansas              4.178851\n",
      "Kentucky            7.238306\n",
      "Louisiana           7.812949\n",
      "Maine               6.263985\n",
      "Maryland            5.866422\n",
      "Massachusetts       5.673611\n",
      "Michigan            8.136136\n",
      "Minnesota           5.403750\n",
      "Mississippi         8.320517\n",
      "Missouri            6.258425\n",
      "Montana             5.305418\n",
      "Nebraska            3.109903\n",
      "Nevada              6.737019\n",
      "New Hampshire       4.345710\n",
      "New Jersey          6.422105\n",
      "New Mexico          7.083895\n",
      "New York            6.226225\n",
      "North Carolina      6.708099\n",
      "North Dakota        3.848084\n",
      "Ohio                6.923390\n",
      "Oklahoma            5.228062\n",
      "Oregon              7.849271\n",
      "Pennsylvania        6.475843\n",
      "Rhode Island        6.295802\n",
      "South Carolina      7.978737\n",
      "South Dakota        4.097629\n",
      "Tennessee           7.305776\n",
      "Texas               5.894519\n",
      "Utah                5.503076\n",
      "Vermont             4.944356\n",
      "Virginia            5.450772\n",
      "Washington          8.031513\n",
      "West Virginia       8.104809\n",
      "Wisconsin           5.815659\n",
      "Wyoming             4.576503\n"
     ]
    }
   ],
   "source": [
    "rate = pd.DataFrame([unemployment_rate]).transpose()\n",
    "rate.columns=['unemployment']\n",
    "\n",
    "print(rate)"
   ]
  },
  {
   "cell_type": "code",
   "execution_count": 9,
   "metadata": {},
   "outputs": [
    {
     "name": "stdout",
     "output_type": "stream",
     "text": [
      "{'Alabama': 386327, 'Alaska': 539, 'Arizona': 399097, 'Arkansas': 209448, 'California': 3442623, 'Colorado': 121184, 'Connecticut': 322485, 'Delaware': 92609, 'Florida': 1664003, 'Georgia': 757340, 'Hawaii': 33658, 'Idaho': 23705, 'Illinois': 1987834, 'Indiana': 638638, 'Iowa': 139980, 'Kansas': 39043, 'Kentucky': 423176, 'Louisiana': 293855, 'Maine': 3415, 'Maryland': 814522, 'Massachusetts': 1198652, 'Michigan': 1172017, 'Mississippi': 218795, 'Missouri': 619673, 'Montana': 118362, 'Nebraska': 33460, 'Nevada': 11937, 'New Hampshire': 246836, 'New Jersey': 877496, 'New Mexico': 214307, 'New York': 1817552, 'North Carolina': 1076699, 'North Dakota': 354, 'Ohio': 1192815, 'Oklahoma': 313392, 'Oregon': 572485, 'Pennsylvania': 1638644, 'Rhode Island': 119213, 'South Carolina': 367491, 'South Dakota': 53004, 'Tennessee': 365637, 'Texas': 1410641, 'Utah': 76999, 'Vermont': 134198, 'Virginia': 778865, 'Washington': 26299, 'West Virginia': 210214, 'Wisconsin': 1000703, 'Wyoming': 280}\n"
     ]
    }
   ],
   "source": [
    "#create dictionary named democratic for total number of democratic votes in a state\n",
    "\n",
    "democratic = {}\n",
    "\n",
    "for i in range(len(primary[\"state\"])):\n",
    "    if primary[\"state\"][i] not in democratic and primary[\"party\"][i] == 'Democrat':\n",
    "        democratic[primary['state'][i]] = primary['votes'][i]\n",
    "    elif primary[\"party\"][i] == 'Democrat':\n",
    "        democratic[primary['state'][i]] = democratic[primary['state'][i]] + primary['votes'][i]\n",
    "        \n",
    "print(democratic)"
   ]
  },
  {
   "cell_type": "code",
   "execution_count": 10,
   "metadata": {},
   "outputs": [
    {
     "name": "stdout",
     "output_type": "stream",
     "text": [
      "{'Alabama': 837632, 'Alaska': 21930, 'Arizona': 435103, 'Arkansas': 396523, 'California': 1495574, 'Connecticut': 208817, 'Delaware': 67807, 'Florida': 2276926, 'Georgia': 1275601, 'Hawaii': 13228, 'Idaho': 215284, 'Illinois': 1384703, 'Indiana': 1080653, 'Iowa': 186724, 'Kansas': 72253, 'Kentucky': 225709, 'Louisiana': 291926, 'Maryland': 418750, 'Massachusetts': 614668, 'Michigan': 1259094, 'Mississippi': 395405, 'Missouri': 911999, 'Montana': 139154, 'Nebraska': 180231, 'Nevada': 74878, 'New Hampshire': 279130, 'New Jersey': 443724, 'New Mexico': 95225, 'New York': 868987, 'North Carolina': 1109048, 'Ohio': 2011357, 'Oklahoma': 452731, 'Oregon': 361490, 'Pennsylvania': 1537696, 'Rhode Island': 60381, 'South Carolina': 737917, 'South Dakota': 66877, 'Tennessee': 834939, 'Texas': 2737248, 'Utah': 177204, 'Vermont': 58762, 'Virginia': 1012807, 'Washington': 510851, 'West Virginia': 188138, 'Wisconsin': 1072699, 'Wyoming': 903}\n"
     ]
    }
   ],
   "source": [
    "#create dictionary for total number of republican votes in a state\n",
    "republican = {}\n",
    "\n",
    "for i in range(len(primary[\"state\"])):\n",
    "    if primary[\"state\"][i] not in republican and primary[\"party\"][i] == 'Republican':\n",
    "        republican[primary['state'][i]] = primary['votes'][i]\n",
    "    elif primary[\"party\"][i] == 'Republican':\n",
    "        republican[primary['state'][i]] = republican[primary['state'][i]] + primary['votes'][i]\n",
    "\n",
    "print(republican)"
   ]
  },
  {
   "cell_type": "code",
   "execution_count": 11,
   "metadata": {},
   "outputs": [
    {
     "name": "stdout",
     "output_type": "stream",
     "text": [
      "                unemployment  democratic  republican\n",
      "Alabama             7.723844    386327.0    837632.0\n",
      "Arizona             9.274588    399097.0    435103.0\n",
      "Arkansas            6.782210    209448.0    396523.0\n",
      "California          9.045005   3442623.0   1495574.0\n",
      "Colorado            5.358946    121184.0         0.0\n",
      "Connecticut         5.548534    322485.0    208817.0\n",
      "Delaware            5.041049     92609.0     67807.0\n",
      "Hawaii              5.730401     33658.0     13228.0\n",
      "Idaho               6.319992     23705.0    215284.0\n",
      "Illinois            6.548596   1987834.0   1384703.0\n",
      "Indiana             5.922725    638638.0   1080653.0\n",
      "Iowa                4.236744    139980.0    186724.0\n",
      "Kansas              4.178851     39043.0     72253.0\n",
      "Kentucky            7.238306    423176.0    225709.0\n",
      "Louisiana           7.812949    293855.0    291926.0\n",
      "Maine               6.263985      3415.0         NaN\n",
      "Maryland            5.866422    814522.0    418750.0\n",
      "Massachusetts       5.673611   1198652.0    614668.0\n",
      "Michigan            8.136136   1172017.0   1259094.0\n",
      "Minnesota           5.403750         NaN         NaN\n",
      "Mississippi         8.320517    218795.0    395405.0\n",
      "Missouri            6.258425    619673.0    911999.0\n",
      "Montana             5.305418    118362.0    139154.0\n",
      "Nebraska            3.109903     33460.0    180231.0\n",
      "Nevada              6.737019     11937.0     74878.0\n",
      "New Hampshire       4.345710    246836.0    279130.0\n",
      "New Jersey          6.422105    877496.0    443724.0\n",
      "New Mexico          7.083895    214307.0     95225.0\n",
      "New York            6.226225   1817552.0    868987.0\n",
      "North Carolina      6.708099   1076699.0   1109048.0\n",
      "North Dakota        3.848084       354.0         NaN\n",
      "Ohio                6.923390   1192815.0   2011357.0\n",
      "Oklahoma            5.228062    313392.0    452731.0\n",
      "Oregon              7.849271    572485.0    361490.0\n",
      "Pennsylvania        6.475843   1638644.0   1537696.0\n",
      "Rhode Island        6.295802    119213.0     60381.0\n",
      "South Carolina      7.978737    367491.0    737917.0\n",
      "South Dakota        4.097629     53004.0     66877.0\n",
      "Tennessee           7.305776    365637.0    834939.0\n",
      "Texas               5.894519   1410641.0   2737248.0\n",
      "Utah                5.503076     76999.0    177204.0\n",
      "Vermont             4.944356    134198.0     58762.0\n",
      "Virginia            5.450772    778865.0   1012807.0\n",
      "Washington          8.031513     26299.0    510851.0\n",
      "West Virginia       8.104809    210214.0    188138.0\n",
      "Wisconsin           5.815659   1000703.0   1072699.0\n",
      "Wyoming             4.576503       280.0       903.0\n"
     ]
    }
   ],
   "source": [
    "vote_d = pd.DataFrame([democratic]).transpose()\n",
    "vote_r = pd.DataFrame([republican]).transpose()\n",
    "vote_d.head()\n",
    "\n",
    "rate['democratic']=vote_d[0]\n",
    "rate['republican']=vote_r[0]\n",
    "rate['republican']['Colorado']=0\n",
    "\n",
    "rate.head()\n",
    "\n",
    "print(rate)"
   ]
  },
  {
   "cell_type": "code",
   "execution_count": 43,
   "metadata": {},
   "outputs": [
    {
     "name": "stderr",
     "output_type": "stream",
     "text": [
      "/anaconda3/lib/python3.6/site-packages/ipykernel_launcher.py:6: SettingWithCopyWarning:\n",
      "\n",
      "\n",
      "A value is trying to be set on a copy of a slice from a DataFrame\n",
      "\n",
      "See the caveats in the documentation: http://pandas.pydata.org/pandas-docs/stable/indexing.html#indexing-view-versus-copy\n",
      "\n",
      "/anaconda3/lib/python3.6/site-packages/ipykernel_launcher.py:4: SettingWithCopyWarning:\n",
      "\n",
      "\n",
      "A value is trying to be set on a copy of a slice from a DataFrame\n",
      "\n",
      "See the caveats in the documentation: http://pandas.pydata.org/pandas-docs/stable/indexing.html#indexing-view-versus-copy\n",
      "\n"
     ]
    },
    {
     "name": "stdout",
     "output_type": "stream",
     "text": [
      "                unemployment  democratic  republican overallparty\n",
      "Alabama             7.723844    386327.0    837632.0           -1\n",
      "Arizona             9.274588    399097.0    435103.0           -1\n",
      "Arkansas            6.782210    209448.0    396523.0           -1\n",
      "California          9.045005   3442623.0   1495574.0            1\n",
      "Colorado            5.358946    121184.0         0.0            1\n",
      "Connecticut         5.548534    322485.0    208817.0            1\n",
      "Delaware            5.041049     92609.0     67807.0            1\n",
      "Hawaii              5.730401     33658.0     13228.0            1\n",
      "Idaho               6.319992     23705.0    215284.0           -1\n",
      "Illinois            6.548596   1987834.0   1384703.0            1\n",
      "Indiana             5.922725    638638.0   1080653.0           -1\n",
      "Iowa                4.236744    139980.0    186724.0           -1\n",
      "Kansas              4.178851     39043.0     72253.0           -1\n",
      "Kentucky            7.238306    423176.0    225709.0            1\n",
      "Louisiana           7.812949    293855.0    291926.0            1\n",
      "Maine               6.263985      3415.0         NaN           -1\n",
      "Maryland            5.866422    814522.0    418750.0            1\n",
      "Massachusetts       5.673611   1198652.0    614668.0            1\n",
      "Michigan            8.136136   1172017.0   1259094.0           -1\n",
      "Minnesota           5.403750         NaN         NaN           -1\n",
      "Mississippi         8.320517    218795.0    395405.0           -1\n",
      "Missouri            6.258425    619673.0    911999.0           -1\n",
      "Montana             5.305418    118362.0    139154.0           -1\n",
      "Nebraska            3.109903     33460.0    180231.0           -1\n",
      "Nevada              6.737019     11937.0     74878.0           -1\n",
      "New Hampshire       4.345710    246836.0    279130.0           -1\n",
      "New Jersey          6.422105    877496.0    443724.0            1\n",
      "New Mexico          7.083895    214307.0     95225.0            1\n",
      "New York            6.226225   1817552.0    868987.0            1\n",
      "North Carolina      6.708099   1076699.0   1109048.0           -1\n",
      "North Dakota        3.848084       354.0         NaN           -1\n",
      "Ohio                6.923390   1192815.0   2011357.0           -1\n",
      "Oklahoma            5.228062    313392.0    452731.0           -1\n",
      "Oregon              7.849271    572485.0    361490.0            1\n",
      "Pennsylvania        6.475843   1638644.0   1537696.0            1\n",
      "Rhode Island        6.295802    119213.0     60381.0            1\n",
      "South Carolina      7.978737    367491.0    737917.0           -1\n",
      "South Dakota        4.097629     53004.0     66877.0           -1\n",
      "Tennessee           7.305776    365637.0    834939.0           -1\n",
      "Texas               5.894519   1410641.0   2737248.0           -1\n",
      "Utah                5.503076     76999.0    177204.0           -1\n",
      "Vermont             4.944356    134198.0     58762.0            1\n",
      "Virginia            5.450772    778865.0   1012807.0           -1\n",
      "Washington          8.031513     26299.0    510851.0           -1\n",
      "West Virginia       8.104809    210214.0    188138.0            1\n",
      "Wisconsin           5.815659   1000703.0   1072699.0           -1\n",
      "Wyoming             4.576503       280.0       903.0           -1\n"
     ]
    }
   ],
   "source": [
    "rate['overallparty']='n'\n",
    "for i in range(len(rate)):\n",
    "    if rate['democratic'][i]>rate['republican'][i]:\n",
    "        rate['overallparty'][i]=1\n",
    "    else:\n",
    "        rate['overallparty'][i]=-1\n",
    "#1 if the state is overall democratic\n",
    "#-1 if the state is overall republican\n",
    "\n",
    "print(rate)"
   ]
  },
  {
   "cell_type": "markdown",
   "metadata": {},
   "source": [
    "# Visualization "
   ]
  },
  {
   "cell_type": "code",
   "execution_count": 13,
   "metadata": {},
   "outputs": [],
   "source": [
    "import matplotlib.pyplot as plt\n",
    "%matplotlib inline"
   ]
  },
  {
   "cell_type": "code",
   "execution_count": 50,
   "metadata": {},
   "outputs": [
    {
     "data": {
      "image/png": "[encoded data removed]",
      "text/plain": [
       "<Figure size 432x288 with 1 Axes>"
      ]
     },
     "metadata": {},
     "output_type": "display_data"
    }
   ],
   "source": [
    "bar1 =(pd.to_numeric(rate['democratic']).mean())\n",
    "bar2 =(pd.to_numeric(rate['republican']).mean())\n",
    "plt.bar([0,1],[bar1,bar2],align='center',color = 'purple')\n",
    "plt.title('Average Number of Votes Across the US')\n",
    "plt.xticks([0,1],['democratic', 'republican'])\n",
    "plt.ylabel('Average Votes Number')\n",
    "plt.show()\n"
   ]
  },
  {
   "cell_type": "code",
   "execution_count": 49,
   "metadata": {},
   "outputs": [
    {
     "data": {
      "image/png": "[encoded data removed]",
      "text/plain": [
       "<Figure size 432x288 with 1 Axes>"
      ]
     },
     "metadata": {},
     "output_type": "display_data"
    }
   ],
   "source": [
    "plt.scatter(rate['unemployment'],rate['overallparty'],color='red') #Colored by species\n",
    "\n",
    "plt.title('Unemployment Rate vs. Political Party')\n",
    "plt.xlabel('Unemployment Rate')\n",
    "plt.ylabel('Overall Party')\n",
    "\n",
    "plt.show()"
   ]
  },
  {
   "cell_type": "code",
   "execution_count": 60,
   "metadata": {},
   "outputs": [
    {
     "data": {
      "application/vnd.plotly.v1+json": {
       "config": {
        "plotlyServerURL": "https://plot.ly"
       },
       "data": [
        {
         "colorbar": {
          "title": {
           "text": "Party"
          }
         },
         "colorscale": [
          [
           0,
           "rgb(255,245,240)"
          ],
          [
           0.125,
           "rgb(254,224,210)"
          ],
          [
           0.25,
           "rgb(252,187,161)"
          ],
          [
           0.375,
           "rgb(252,146,114)"
          ],
          [
           0.5,
           "rgb(251,106,74)"
          ],
          [
           0.625,
           "rgb(239,59,44)"
          ],
          [
           0.75,
           "rgb(203,24,29)"
          ],
          [
           0.875,
           "rgb(165,15,21)"
          ],
          [
           1,
           "rgb(103,0,13)"
          ]
         ],
         "locationmode": "USA-states",
         "locations": [
          "AL",
          "AK",
          "AZ",
          "AR",
          "CA",
          "CO",
          "CT",
          "DE",
          "FL",
          "GA",
          "HI",
          "ID",
          "IL",
          "IN",
          "IA",
          "KS",
          "KY",
          "LA",
          "ME",
          "MD",
          "MA",
          "MI",
          "MN",
          "MS",
          "MO",
          "MT",
          "NE",
          "NV",
          "NH",
          "NJ",
          "NM",
          "NY",
          "NC",
          "ND",
          "OH",
          "OK",
          "OR",
          "PA",
          "RI",
          "SC",
          "SD",
          "TN",
          "TX",
          "UT",
          "VT",
          "VA",
          "WA",
          "WV",
          "WI",
          "WY"
         ],
         "type": "choropleth",
         "z": [
          -1,
          -1,
          -1,
          1,
          1,
          1,
          1,
          1,
          -1,
          1,
          -1,
          -1,
          -1,
          1,
          1,
          -1,
          1,
          1,
          -1,
          -1,
          -1,
          -1,
          -1,
          -1,
          -1,
          -1,
          1,
          1,
          1,
          -1,
          -1,
          -1,
          -1,
          1,
          1,
          1,
          -1,
          -1,
          -1,
          -1,
          -1,
          1,
          -1,
          -1,
          1,
          -1,
          -1
         ]
        }
       ],
       "layout": {
        "geo": {
         "scope": "usa"
        },
        "template": {
         "data": {
          "bar": [
           {
            "error_x": {
             "color": "#2a3f5f"
            },
            "error_y": {
             "color": "#2a3f5f"
            },
            "marker": {
             "line": {
              "color": "#E5ECF6",
              "width": 0.5
             }
            },
            "type": "bar"
           }
          ],
          "barpolar": [
           {
            "marker": {
             "line": {
              "color": "#E5ECF6",
              "width": 0.5
             }
            },
            "type": "barpolar"
           }
          ],
          "carpet": [
           {
            "aaxis": {
             "endlinecolor": "#2a3f5f",
             "gridcolor": "white",
             "linecolor": "white",
             "minorgridcolor": "white",
             "startlinecolor": "#2a3f5f"
            },
            "baxis": {
             "endlinecolor": "#2a3f5f",
             "gridcolor": "white",
             "linecolor": "white",
             "minorgridcolor": "white",
             "startlinecolor": "#2a3f5f"
            },
            "type": "carpet"
           }
          ],
          "choropleth": [
           {
            "colorbar": {
             "outlinewidth": 0,
             "ticks": ""
            },
            "type": "choropleth"
           }
          ],
          "contour": [
           {
            "colorbar": {
             "outlinewidth": 0,
             "ticks": ""
            },
            "colorscale": [
             [
              0,
              "#0d0887"
             ],
             [
              0.1111111111111111,
              "#46039f"
             ],
             [
              0.2222222222222222,
              "#7201a8"
             ],
             [
              0.3333333333333333,
              "#9c179e"
             ],
             [
              0.4444444444444444,
              "#bd3786"
             ],
             [
              0.5555555555555556,
              "#d8576b"
             ],
             [
              0.6666666666666666,
              "#ed7953"
             ],
             [
              0.7777777777777778,
              "#fb9f3a"
             ],
             [
              0.8888888888888888,
              "#fdca26"
             ],
             [
              1,
              "#f0f921"
             ]
            ],
            "type": "contour"
           }
          ],
          "contourcarpet": [
           {
            "colorbar": {
             "outlinewidth": 0,
             "ticks": ""
            },
            "type": "contourcarpet"
           }
          ],
          "heatmap": [
           {
            "colorbar": {
             "outlinewidth": 0,
             "ticks": ""
            },
            "colorscale": [
             [
              0,
              "#0d0887"
             ],
             [
              0.1111111111111111,
              "#46039f"
             ],
             [
              0.2222222222222222,
              "#7201a8"
             ],
             [
              0.3333333333333333,
              "#9c179e"
             ],
             [
              0.4444444444444444,
              "#bd3786"
             ],
             [
              0.5555555555555556,
              "#d8576b"
             ],
             [
              0.6666666666666666,
              "#ed7953"
             ],
             [
              0.7777777777777778,
              "#fb9f3a"
             ],
             [
              0.8888888888888888,
              "#fdca26"
             ],
             [
              1,
              "#f0f921"
             ]
            ],
            "type": "heatmap"
           }
          ],
          "heatmapgl": [
           {
            "colorbar": {
             "outlinewidth": 0,
             "ticks": ""
            },
            "colorscale": [
             [
              0,
              "#0d0887"
             ],
             [
              0.1111111111111111,
              "#46039f"
             ],
             [
              0.2222222222222222,
              "#7201a8"
             ],
             [
              0.3333333333333333,
              "#9c179e"
             ],
             [
              0.4444444444444444,
              "#bd3786"
             ],
             [
              0.5555555555555556,
              "#d8576b"
             ],
             [
              0.6666666666666666,
              "#ed7953"
             ],
             [
              0.7777777777777778,
              "#fb9f3a"
             ],
             [
              0.8888888888888888,
              "#fdca26"
             ],
             [
              1,
              "#f0f921"
             ]
            ],
            "type": "heatmapgl"
           }
          ],
          "histogram": [
           {
            "marker": {
             "colorbar": {
              "outlinewidth": 0,
              "ticks": ""
             }
            },
            "type": "histogram"
           }
          ],
          "histogram2d": [
           {
            "colorbar": {
             "outlinewidth": 0,
             "ticks": ""
            },
            "colorscale": [
             [
              0,
              "#0d0887"
             ],
             [
              0.1111111111111111,
              "#46039f"
             ],
             [
              0.2222222222222222,
              "#7201a8"
             ],
             [
              0.3333333333333333,
              "#9c179e"
             ],
             [
              0.4444444444444444,
              "#bd3786"
             ],
             [
              0.5555555555555556,
              "#d8576b"
             ],
             [
              0.6666666666666666,
              "#ed7953"
             ],
             [
              0.7777777777777778,
              "#fb9f3a"
             ],
             [
              0.8888888888888888,
              "#fdca26"
             ],
             [
              1,
              "#f0f921"
             ]
            ],
            "type": "histogram2d"
           }
          ],
          "histogram2dcontour": [
           {
            "colorbar": {
             "outlinewidth": 0,
             "ticks": ""
            },
            "colorscale": [
             [
              0,
              "#0d0887"
             ],
             [
              0.1111111111111111,
              "#46039f"
             ],
             [
              0.2222222222222222,
              "#7201a8"
             ],
             [
              0.3333333333333333,
              "#9c179e"
             ],
             [
              0.4444444444444444,
              "#bd3786"
             ],
             [
              0.5555555555555556,
              "#d8576b"
             ],
             [
              0.6666666666666666,
              "#ed7953"
             ],
             [
              0.7777777777777778,
              "#fb9f3a"
             ],
             [
              0.8888888888888888,
              "#fdca26"
             ],
             [
              1,
              "#f0f921"
             ]
            ],
            "type": "histogram2dcontour"
           }
          ],
          "mesh3d": [
           {
            "colorbar": {
             "outlinewidth": 0,
             "ticks": ""
            },
            "type": "mesh3d"
           }
          ],
          "parcoords": [
           {
            "line": {
             "colorbar": {
              "outlinewidth": 0,
              "ticks": ""
             }
            },
            "type": "parcoords"
           }
          ],
          "scatter": [
           {
            "marker": {
             "colorbar": {
              "outlinewidth": 0,
              "ticks": ""
             }
            },
            "type": "scatter"
           }
          ],
          "scatter3d": [
           {
            "line": {
             "colorbar": {
              "outlinewidth": 0,
              "ticks": ""
             }
            },
            "marker": {
             "colorbar": {
              "outlinewidth": 0,
              "ticks": ""
             }
            },
            "type": "scatter3d"
           }
          ],
          "scattercarpet": [
           {
            "marker": {
             "colorbar": {
              "outlinewidth": 0,
              "ticks": ""
             }
            },
            "type": "scattercarpet"
           }
          ],
          "scattergeo": [
           {
            "marker": {
             "colorbar": {
              "outlinewidth": 0,
              "ticks": ""
             }
            },
            "type": "scattergeo"
           }
          ],
          "scattergl": [
           {
            "marker": {
             "colorbar": {
              "outlinewidth": 0,
              "ticks": ""
             }
            },
            "type": "scattergl"
           }
          ],
          "scattermapbox": [
           {
            "marker": {
             "colorbar": {
              "outlinewidth": 0,
              "ticks": ""
             }
            },
            "type": "scattermapbox"
           }
          ],
          "scatterpolar": [
           {
            "marker": {
             "colorbar": {
              "outlinewidth": 0,
              "ticks": ""
             }
            },
            "type": "scatterpolar"
           }
          ],
          "scatterpolargl": [
           {
            "marker": {
             "colorbar": {
              "outlinewidth": 0,
              "ticks": ""
             }
            },
            "type": "scatterpolargl"
           }
          ],
          "scatterternary": [
           {
            "marker": {
             "colorbar": {
              "outlinewidth": 0,
              "ticks": ""
             }
            },
            "type": "scatterternary"
           }
          ],
          "surface": [
           {
            "colorbar": {
             "outlinewidth": 0,
             "ticks": ""
            },
            "colorscale": [
             [
              0,
              "#0d0887"
             ],
             [
              0.1111111111111111,
              "#46039f"
             ],
             [
              0.2222222222222222,
              "#7201a8"
             ],
             [
              0.3333333333333333,
              "#9c179e"
             ],
             [
              0.4444444444444444,
              "#bd3786"
             ],
             [
              0.5555555555555556,
              "#d8576b"
             ],
             [
              0.6666666666666666,
              "#ed7953"
             ],
             [
              0.7777777777777778,
              "#fb9f3a"
             ],
             [
              0.8888888888888888,
              "#fdca26"
             ],
             [
              1,
              "#f0f921"
             ]
            ],
            "type": "surface"
           }
          ],
          "table": [
           {
            "cells": {
             "fill": {
              "color": "#EBF0F8"
             },
             "line": {
              "color": "white"
             }
            },
            "header": {
             "fill": {
              "color": "#C8D4E3"
             },
             "line": {
              "color": "white"
             }
            },
            "type": "table"
           }
          ]
         },
         "layout": {
          "annotationdefaults": {
           "arrowcolor": "#2a3f5f",
           "arrowhead": 0,
           "arrowwidth": 1
          },
          "colorscale": {
           "diverging": [
            [
             0,
             "#8e0152"
            ],
            [
             0.1,
             "#c51b7d"
            ],
            [
             0.2,
             "#de77ae"
            ],
            [
             0.3,
             "#f1b6da"
            ],
            [
             0.4,
             "#fde0ef"
            ],
            [
             0.5,
             "#f7f7f7"
            ],
            [
             0.6,
             "#e6f5d0"
            ],
            [
             0.7,
             "#b8e186"
            ],
            [
             0.8,
             "#7fbc41"
            ],
            [
             0.9,
             "#4d9221"
            ],
            [
             1,
             "#276419"
            ]
           ],
           "sequential": [
            [
             0,
             "#0d0887"
            ],
            [
             0.1111111111111111,
             "#46039f"
            ],
            [
             0.2222222222222222,
             "#7201a8"
            ],
            [
             0.3333333333333333,
             "#9c179e"
            ],
            [
             0.4444444444444444,
             "#bd3786"
            ],
            [
             0.5555555555555556,
             "#d8576b"
            ],
            [
             0.6666666666666666,
             "#ed7953"
            ],
            [
             0.7777777777777778,
             "#fb9f3a"
            ],
            [
             0.8888888888888888,
             "#fdca26"
            ],
            [
             1,
             "#f0f921"
            ]
           ],
           "sequentialminus": [
            [
             0,
             "#0d0887"
            ],
            [
             0.1111111111111111,
             "#46039f"
            ],
            [
             0.2222222222222222,
             "#7201a8"
            ],
            [
             0.3333333333333333,
             "#9c179e"
            ],
            [
             0.4444444444444444,
             "#bd3786"
            ],
            [
             0.5555555555555556,
             "#d8576b"
            ],
            [
             0.6666666666666666,
             "#ed7953"
            ],
            [
             0.7777777777777778,
             "#fb9f3a"
            ],
            [
             0.8888888888888888,
             "#fdca26"
            ],
            [
             1,
             "#f0f921"
            ]
           ]
          },
          "colorway": [
           "#636efa",
           "#EF553B",
           "#00cc96",
           "#ab63fa",
           "#FFA15A",
           "#19d3f3",
           "#FF6692",
           "#B6E880",
           "#FF97FF",
           "#FECB52"
          ],
          "font": {
           "color": "#2a3f5f"
          },
          "geo": {
           "bgcolor": "white",
           "lakecolor": "white",
           "landcolor": "#E5ECF6",
           "showlakes": true,
           "showland": true,
           "subunitcolor": "white"
          },
          "hoverlabel": {
           "align": "left"
          },
          "hovermode": "closest",
          "mapbox": {
           "style": "light"
          },
          "paper_bgcolor": "white",
          "plot_bgcolor": "#E5ECF6",
          "polar": {
           "angularaxis": {
            "gridcolor": "white",
            "linecolor": "white",
            "ticks": ""
           },
           "bgcolor": "#E5ECF6",
           "radialaxis": {
            "gridcolor": "white",
            "linecolor": "white",
            "ticks": ""
           }
          },
          "scene": {
           "xaxis": {
            "backgroundcolor": "#E5ECF6",
            "gridcolor": "white",
            "gridwidth": 2,
            "linecolor": "white",
            "showbackground": true,
            "ticks": "",
            "zerolinecolor": "white"
           },
           "yaxis": {
            "backgroundcolor": "#E5ECF6",
            "gridcolor": "white",
            "gridwidth": 2,
            "linecolor": "white",
            "showbackground": true,
            "ticks": "",
            "zerolinecolor": "white"
           },
           "zaxis": {
            "backgroundcolor": "#E5ECF6",
            "gridcolor": "white",
            "gridwidth": 2,
            "linecolor": "white",
            "showbackground": true,
            "ticks": "",
            "zerolinecolor": "white"
           }
          },
          "shapedefaults": {
           "line": {
            "color": "#2a3f5f"
           }
          },
          "ternary": {
           "aaxis": {
            "gridcolor": "white",
            "linecolor": "white",
            "ticks": ""
           },
           "baxis": {
            "gridcolor": "white",
            "linecolor": "white",
            "ticks": ""
           },
           "bgcolor": "#E5ECF6",
           "caxis": {
            "gridcolor": "white",
            "linecolor": "white",
            "ticks": ""
           }
          },
          "title": {
           "x": 0.05
          },
          "xaxis": {
           "automargin": true,
           "gridcolor": "white",
           "linecolor": "white",
           "ticks": "",
           "zerolinecolor": "white",
           "zerolinewidth": 2
          },
          "yaxis": {
           "automargin": true,
           "gridcolor": "white",
           "linecolor": "white",
           "ticks": "",
           "zerolinecolor": "white",
           "zerolinewidth": 2
          }
         }
        },
        "title": {
         "text": "Spread of Political Parties"
        }
       }
      },
      "text/html": [
       "<div>\n",
       "        \n",
       "        \n",
       "            <div id=\"1554965e-5dcc-42f3-be33-61c0979f4957\" class=\"plotly-graph-div\" style=\"height:525px; width:100%;\"></div>\n",
       "            <script type=\"text/javascript\">\n",
       "                require([\"plotly\"], function(Plotly) {\n",
       "                    window.PLOTLYENV=window.PLOTLYENV || {};\n",
       "                    \n",
       "                if (document.getElementById(\"1554965e-5dcc-42f3-be33-61c0979f4957\")) {\n",
       "                    Plotly.newPlot(\n",
       "                        '1554965e-5dcc-42f3-be33-61c0979f4957',\n",
       "                        [{\"colorbar\": {\"title\": {\"text\": \"Party\"}}, \"colorscale\": [[0.0, \"rgb(255,245,240)\"], [0.125, \"rgb(254,224,210)\"], [0.25, \"rgb(252,187,161)\"], [0.375, \"rgb(252,146,114)\"], [0.5, \"rgb(251,106,74)\"], [0.625, \"rgb(239,59,44)\"], [0.75, \"rgb(203,24,29)\"], [0.875, \"rgb(165,15,21)\"], [1.0, \"rgb(103,0,13)\"]], \"locationmode\": \"USA-states\", \"locations\": [\"AL\", \"AK\", \"AZ\", \"AR\", \"CA\", \"CO\", \"CT\", \"DE\", \"FL\", \"GA\", \"HI\", \"ID\", \"IL\", \"IN\", \"IA\", \"KS\", \"KY\", \"LA\", \"ME\", \"MD\", \"MA\", \"MI\", \"MN\", \"MS\", \"MO\", \"MT\", \"NE\", \"NV\", \"NH\", \"NJ\", \"NM\", \"NY\", \"NC\", \"ND\", \"OH\", \"OK\", \"OR\", \"PA\", \"RI\", \"SC\", \"SD\", \"TN\", \"TX\", \"UT\", \"VT\", \"VA\", \"WA\", \"WV\", \"WI\", \"WY\"], \"type\": \"choropleth\", \"z\": [-1.0, -1.0, -1.0, 1.0, 1.0, 1.0, 1.0, 1.0, -1.0, 1.0, -1.0, -1.0, -1.0, 1.0, 1.0, -1.0, 1.0, 1.0, -1.0, -1.0, -1.0, -1.0, -1.0, -1.0, -1.0, -1.0, 1.0, 1.0, 1.0, -1.0, -1.0, -1.0, -1.0, 1.0, 1.0, 1.0, -1.0, -1.0, -1.0, -1.0, -1.0, 1.0, -1.0, -1.0, 1.0, -1.0, -1.0]}],\n",
       "                        {\"geo\": {\"scope\": \"usa\"}, \"template\": {\"data\": {\"bar\": [{\"error_x\": {\"color\": \"#2a3f5f\"}, \"error_y\": {\"color\": \"#2a3f5f\"}, \"marker\": {\"line\": {\"color\": \"#E5ECF6\", \"width\": 0.5}}, \"type\": \"bar\"}], \"barpolar\": [{\"marker\": {\"line\": {\"color\": \"#E5ECF6\", \"width\": 0.5}}, \"type\": \"barpolar\"}], \"carpet\": [{\"aaxis\": {\"endlinecolor\": \"#2a3f5f\", \"gridcolor\": \"white\", \"linecolor\": \"white\", \"minorgridcolor\": \"white\", \"startlinecolor\": \"#2a3f5f\"}, \"baxis\": {\"endlinecolor\": \"#2a3f5f\", \"gridcolor\": \"white\", \"linecolor\": \"white\", \"minorgridcolor\": \"white\", \"startlinecolor\": \"#2a3f5f\"}, \"type\": \"carpet\"}], \"choropleth\": [{\"colorbar\": {\"outlinewidth\": 0, \"ticks\": \"\"}, \"type\": \"choropleth\"}], \"contour\": [{\"colorbar\": {\"outlinewidth\": 0, \"ticks\": \"\"}, \"colorscale\": [[0.0, \"#0d0887\"], [0.1111111111111111, \"#46039f\"], [0.2222222222222222, \"#7201a8\"], [0.3333333333333333, \"#9c179e\"], [0.4444444444444444, \"#bd3786\"], [0.5555555555555556, \"#d8576b\"], [0.6666666666666666, \"#ed7953\"], [0.7777777777777778, \"#fb9f3a\"], [0.8888888888888888, \"#fdca26\"], [1.0, \"#f0f921\"]], \"type\": \"contour\"}], \"contourcarpet\": [{\"colorbar\": {\"outlinewidth\": 0, \"ticks\": \"\"}, \"type\": \"contourcarpet\"}], \"heatmap\": [{\"colorbar\": {\"outlinewidth\": 0, \"ticks\": \"\"}, \"colorscale\": [[0.0, \"#0d0887\"], [0.1111111111111111, \"#46039f\"], [0.2222222222222222, \"#7201a8\"], [0.3333333333333333, \"#9c179e\"], [0.4444444444444444, \"#bd3786\"], [0.5555555555555556, \"#d8576b\"], [0.6666666666666666, \"#ed7953\"], [0.7777777777777778, \"#fb9f3a\"], [0.8888888888888888, \"#fdca26\"], [1.0, \"#f0f921\"]], \"type\": \"heatmap\"}], \"heatmapgl\": [{\"colorbar\": {\"outlinewidth\": 0, \"ticks\": \"\"}, \"colorscale\": [[0.0, \"#0d0887\"], [0.1111111111111111, \"#46039f\"], [0.2222222222222222, \"#7201a8\"], [0.3333333333333333, \"#9c179e\"], [0.4444444444444444, \"#bd3786\"], [0.5555555555555556, \"#d8576b\"], [0.6666666666666666, \"#ed7953\"], [0.7777777777777778, \"#fb9f3a\"], [0.8888888888888888, \"#fdca26\"], [1.0, \"#f0f921\"]], \"type\": \"heatmapgl\"}], \"histogram\": [{\"marker\": {\"colorbar\": {\"outlinewidth\": 0, \"ticks\": \"\"}}, \"type\": \"histogram\"}], \"histogram2d\": [{\"colorbar\": {\"outlinewidth\": 0, \"ticks\": \"\"}, \"colorscale\": [[0.0, \"#0d0887\"], [0.1111111111111111, \"#46039f\"], [0.2222222222222222, \"#7201a8\"], [0.3333333333333333, \"#9c179e\"], [0.4444444444444444, \"#bd3786\"], [0.5555555555555556, \"#d8576b\"], [0.6666666666666666, \"#ed7953\"], [0.7777777777777778, \"#fb9f3a\"], [0.8888888888888888, \"#fdca26\"], [1.0, \"#f0f921\"]], \"type\": \"histogram2d\"}], \"histogram2dcontour\": [{\"colorbar\": {\"outlinewidth\": 0, \"ticks\": \"\"}, \"colorscale\": [[0.0, \"#0d0887\"], [0.1111111111111111, \"#46039f\"], [0.2222222222222222, \"#7201a8\"], [0.3333333333333333, \"#9c179e\"], [0.4444444444444444, \"#bd3786\"], [0.5555555555555556, \"#d8576b\"], [0.6666666666666666, \"#ed7953\"], [0.7777777777777778, \"#fb9f3a\"], [0.8888888888888888, \"#fdca26\"], [1.0, \"#f0f921\"]], \"type\": \"histogram2dcontour\"}], \"mesh3d\": [{\"colorbar\": {\"outlinewidth\": 0, \"ticks\": \"\"}, \"type\": \"mesh3d\"}], \"parcoords\": [{\"line\": {\"colorbar\": {\"outlinewidth\": 0, \"ticks\": \"\"}}, \"type\": \"parcoords\"}], \"scatter\": [{\"marker\": {\"colorbar\": {\"outlinewidth\": 0, \"ticks\": \"\"}}, \"type\": \"scatter\"}], \"scatter3d\": [{\"line\": {\"colorbar\": {\"outlinewidth\": 0, \"ticks\": \"\"}}, \"marker\": {\"colorbar\": {\"outlinewidth\": 0, \"ticks\": \"\"}}, \"type\": \"scatter3d\"}], \"scattercarpet\": [{\"marker\": {\"colorbar\": {\"outlinewidth\": 0, \"ticks\": \"\"}}, \"type\": \"scattercarpet\"}], \"scattergeo\": [{\"marker\": {\"colorbar\": {\"outlinewidth\": 0, \"ticks\": \"\"}}, \"type\": \"scattergeo\"}], \"scattergl\": [{\"marker\": {\"colorbar\": {\"outlinewidth\": 0, \"ticks\": \"\"}}, \"type\": \"scattergl\"}], \"scattermapbox\": [{\"marker\": {\"colorbar\": {\"outlinewidth\": 0, \"ticks\": \"\"}}, \"type\": \"scattermapbox\"}], \"scatterpolar\": [{\"marker\": {\"colorbar\": {\"outlinewidth\": 0, \"ticks\": \"\"}}, \"type\": \"scatterpolar\"}], \"scatterpolargl\": [{\"marker\": {\"colorbar\": {\"outlinewidth\": 0, \"ticks\": \"\"}}, \"type\": \"scatterpolargl\"}], \"scatterternary\": [{\"marker\": {\"colorbar\": {\"outlinewidth\": 0, \"ticks\": \"\"}}, \"type\": \"scatterternary\"}], \"surface\": [{\"colorbar\": {\"outlinewidth\": 0, \"ticks\": \"\"}, \"colorscale\": [[0.0, \"#0d0887\"], [0.1111111111111111, \"#46039f\"], [0.2222222222222222, \"#7201a8\"], [0.3333333333333333, \"#9c179e\"], [0.4444444444444444, \"#bd3786\"], [0.5555555555555556, \"#d8576b\"], [0.6666666666666666, \"#ed7953\"], [0.7777777777777778, \"#fb9f3a\"], [0.8888888888888888, \"#fdca26\"], [1.0, \"#f0f921\"]], \"type\": \"surface\"}], \"table\": [{\"cells\": {\"fill\": {\"color\": \"#EBF0F8\"}, \"line\": {\"color\": \"white\"}}, \"header\": {\"fill\": {\"color\": \"#C8D4E3\"}, \"line\": {\"color\": \"white\"}}, \"type\": \"table\"}]}, \"layout\": {\"annotationdefaults\": {\"arrowcolor\": \"#2a3f5f\", \"arrowhead\": 0, \"arrowwidth\": 1}, \"colorscale\": {\"diverging\": [[0, \"#8e0152\"], [0.1, \"#c51b7d\"], [0.2, \"#de77ae\"], [0.3, \"#f1b6da\"], [0.4, \"#fde0ef\"], [0.5, \"#f7f7f7\"], [0.6, \"#e6f5d0\"], [0.7, \"#b8e186\"], [0.8, \"#7fbc41\"], [0.9, \"#4d9221\"], [1, \"#276419\"]], \"sequential\": [[0.0, \"#0d0887\"], [0.1111111111111111, \"#46039f\"], [0.2222222222222222, \"#7201a8\"], [0.3333333333333333, \"#9c179e\"], [0.4444444444444444, \"#bd3786\"], [0.5555555555555556, \"#d8576b\"], [0.6666666666666666, \"#ed7953\"], [0.7777777777777778, \"#fb9f3a\"], [0.8888888888888888, \"#fdca26\"], [1.0, \"#f0f921\"]], \"sequentialminus\": [[0.0, \"#0d0887\"], [0.1111111111111111, \"#46039f\"], [0.2222222222222222, \"#7201a8\"], [0.3333333333333333, \"#9c179e\"], [0.4444444444444444, \"#bd3786\"], [0.5555555555555556, \"#d8576b\"], [0.6666666666666666, \"#ed7953\"], [0.7777777777777778, \"#fb9f3a\"], [0.8888888888888888, \"#fdca26\"], [1.0, \"#f0f921\"]]}, \"colorway\": [\"#636efa\", \"#EF553B\", \"#00cc96\", \"#ab63fa\", \"#FFA15A\", \"#19d3f3\", \"#FF6692\", \"#B6E880\", \"#FF97FF\", \"#FECB52\"], \"font\": {\"color\": \"#2a3f5f\"}, \"geo\": {\"bgcolor\": \"white\", \"lakecolor\": \"white\", \"landcolor\": \"#E5ECF6\", \"showlakes\": true, \"showland\": true, \"subunitcolor\": \"white\"}, \"hoverlabel\": {\"align\": \"left\"}, \"hovermode\": \"closest\", \"mapbox\": {\"style\": \"light\"}, \"paper_bgcolor\": \"white\", \"plot_bgcolor\": \"#E5ECF6\", \"polar\": {\"angularaxis\": {\"gridcolor\": \"white\", \"linecolor\": \"white\", \"ticks\": \"\"}, \"bgcolor\": \"#E5ECF6\", \"radialaxis\": {\"gridcolor\": \"white\", \"linecolor\": \"white\", \"ticks\": \"\"}}, \"scene\": {\"xaxis\": {\"backgroundcolor\": \"#E5ECF6\", \"gridcolor\": \"white\", \"gridwidth\": 2, \"linecolor\": \"white\", \"showbackground\": true, \"ticks\": \"\", \"zerolinecolor\": \"white\"}, \"yaxis\": {\"backgroundcolor\": \"#E5ECF6\", \"gridcolor\": \"white\", \"gridwidth\": 2, \"linecolor\": \"white\", \"showbackground\": true, \"ticks\": \"\", \"zerolinecolor\": \"white\"}, \"zaxis\": {\"backgroundcolor\": \"#E5ECF6\", \"gridcolor\": \"white\", \"gridwidth\": 2, \"linecolor\": \"white\", \"showbackground\": true, \"ticks\": \"\", \"zerolinecolor\": \"white\"}}, \"shapedefaults\": {\"line\": {\"color\": \"#2a3f5f\"}}, \"ternary\": {\"aaxis\": {\"gridcolor\": \"white\", \"linecolor\": \"white\", \"ticks\": \"\"}, \"baxis\": {\"gridcolor\": \"white\", \"linecolor\": \"white\", \"ticks\": \"\"}, \"bgcolor\": \"#E5ECF6\", \"caxis\": {\"gridcolor\": \"white\", \"linecolor\": \"white\", \"ticks\": \"\"}}, \"title\": {\"x\": 0.05}, \"xaxis\": {\"automargin\": true, \"gridcolor\": \"white\", \"linecolor\": \"white\", \"ticks\": \"\", \"zerolinecolor\": \"white\", \"zerolinewidth\": 2}, \"yaxis\": {\"automargin\": true, \"gridcolor\": \"white\", \"linecolor\": \"white\", \"ticks\": \"\", \"zerolinecolor\": \"white\", \"zerolinewidth\": 2}}}, \"title\": {\"text\": \"Spread of Political Parties\"}},\n",
       "                        {\"responsive\": true}\n",
       "                    ).then(function(){\n",
       "                            \n",
       "var gd = document.getElementById('1554965e-5dcc-42f3-be33-61c0979f4957');\n",
       "var x = new MutationObserver(function (mutations, observer) {{\n",
       "        var display = window.getComputedStyle(gd).display;\n",
       "        if (!display || display === 'none') {{\n",
       "            console.log([gd, 'removed!']);\n",
       "            Plotly.purge(gd);\n",
       "            observer.disconnect();\n",
       "        }}\n",
       "}});\n",
       "\n",
       "// Listen for the removal of the full notebook cells\n",
       "var notebookContainer = gd.closest('#notebook-container');\n",
       "if (notebookContainer) {{\n",
       "    x.observe(notebookContainer, {childList: true});\n",
       "}}\n",
       "\n",
       "// Listen for the clearing of the current output cell\n",
       "var outputEl = gd.closest('.output');\n",
       "if (outputEl) {{\n",
       "    x.observe(outputEl, {childList: true});\n",
       "}}\n",
       "\n",
       "                        })\n",
       "                };\n",
       "                });\n",
       "            </script>\n",
       "        </div>"
      ]
     },
     "metadata": {},
     "output_type": "display_data"
    }
   ],
   "source": [
    "#to see cool map visualization, please install plotly in terminal: pip install cufflinks plotly\n",
    "\n",
    "import plotly.graph_objects as go\n",
    "\n",
    "# Load data frame and tidy it.\n",
    "df = pd.read_csv('https://raw.githubusercontent.com/plotly/datasets/master/2011_us_ag_exports.csv')\n",
    "\n",
    "fig = go.Figure(data=go.Choropleth(\n",
    "    locations=df['code'], # Spatial coordinates\n",
    "    z = rate['overallparty'].astype(float), # Data to be color-coded\n",
    "    locationmode = 'USA-states', # set of locations match entries in `locations`\n",
    "    colorscale = 'Reds',\n",
    "    colorbar_title = \"Party\",\n",
    "))\n",
    "\n",
    "fig.update_layout(\n",
    "    title_text = 'Spread of Political Parties',\n",
    "    geo_scope='usa', # limite map scope to USA\n",
    ")\n",
    "\n",
    "fig.show()\n",
    "\n",
    "#IF VISUALIZATION IS NOT SHOWING, HERE IS A SCREENSHOT: \n",
    "#https://drive.google.com/file/d/1wrkOmTlZFHeK_gekANOLFrcYIjyc4Zos/view?usp=sharing"
   ]
  },
  {
   "cell_type": "markdown",
   "metadata": {},
   "source": [
    "# Machine Learning Models"
   ]
  },
  {
   "cell_type": "markdown",
   "metadata": {},
   "source": [
    "# Linear Regression"
   ]
  },
  {
   "cell_type": "code",
   "execution_count": 16,
   "metadata": {},
   "outputs": [
    {
     "data": {
      "text/html": [
       "<div>\n",
       "<style scoped>\n",
       "    .dataframe tbody tr th:only-of-type {\n",
       "        vertical-align: middle;\n",
       "    }\n",
       "\n",
       "    .dataframe tbody tr th {\n",
       "        vertical-align: top;\n",
       "    }\n",
       "\n",
       "    .dataframe thead th {\n",
       "        text-align: right;\n",
       "    }\n",
       "</style>\n",
       "<table border=\"1\" class=\"dataframe\">\n",
       "  <thead>\n",
       "    <tr style=\"text-align: right;\">\n",
       "      <th></th>\n",
       "      <th>State</th>\n",
       "      <th>Hispanic</th>\n",
       "      <th>White</th>\n",
       "      <th>Black</th>\n",
       "      <th>Asian</th>\n",
       "      <th>American Indian</th>\n",
       "    </tr>\n",
       "  </thead>\n",
       "  <tbody>\n",
       "    <tr>\n",
       "      <th>0</th>\n",
       "      <td>Alabama</td>\n",
       "      <td>4.10%</td>\n",
       "      <td>65.5</td>\n",
       "      <td>26.70%</td>\n",
       "      <td>1.30%</td>\n",
       "      <td>0.50%</td>\n",
       "    </tr>\n",
       "    <tr>\n",
       "      <th>1</th>\n",
       "      <td>Arizona</td>\n",
       "      <td>31.40%</td>\n",
       "      <td>54.7</td>\n",
       "      <td>4.10%</td>\n",
       "      <td>3.20%</td>\n",
       "      <td>3.90%</td>\n",
       "    </tr>\n",
       "    <tr>\n",
       "      <th>2</th>\n",
       "      <td>Arkansas</td>\n",
       "      <td>7.40%</td>\n",
       "      <td>72.3</td>\n",
       "      <td>15.20%</td>\n",
       "      <td>1.60%</td>\n",
       "      <td>0.60%</td>\n",
       "    </tr>\n",
       "    <tr>\n",
       "      <th>3</th>\n",
       "      <td>California</td>\n",
       "      <td>39.10%</td>\n",
       "      <td>37</td>\n",
       "      <td>5.50%</td>\n",
       "      <td>14.40%</td>\n",
       "      <td>0.40%</td>\n",
       "    </tr>\n",
       "    <tr>\n",
       "      <th>4</th>\n",
       "      <td>Colorado</td>\n",
       "      <td>21.50%</td>\n",
       "      <td>68.2</td>\n",
       "      <td>3.90%</td>\n",
       "      <td>3.10%</td>\n",
       "      <td>0.60%</td>\n",
       "    </tr>\n",
       "  </tbody>\n",
       "</table>\n",
       "</div>"
      ],
      "text/plain": [
       "        State Hispanic White   Black   Asian American Indian\n",
       "0     Alabama    4.10%  65.5  26.70%   1.30%           0.50%\n",
       "1     Arizona   31.40%  54.7   4.10%   3.20%           3.90%\n",
       "2    Arkansas    7.40%  72.3  15.20%   1.60%           0.60%\n",
       "3  California   39.10%    37   5.50%  14.40%           0.40%\n",
       "4    Colorado   21.50%  68.2   3.90%   3.10%           0.60%"
      ]
     },
     "execution_count": 16,
     "metadata": {},
     "output_type": "execute_result"
    }
   ],
   "source": [
    "\n",
    "#slicing percentages in column \"White\" and converting into floats \n",
    "for i in range(len(facts[\"White\"])):\n",
    "    facts[\"White\"][i] = facts[\"White\"][i][:-1]\n",
    "    facts[\"White\"][i] = float(facts[\"White\"][i])\n",
    "\n",
    "\n",
    "facts.head()\n",
    "\n",
    "\n"
   ]
  },
  {
   "cell_type": "code",
   "execution_count": 42,
   "metadata": {},
   "outputs": [
    {
     "name": "stdout",
     "output_type": "stream",
     "text": [
      "party MSE: 2.7813529546341487\n",
      "[6.19178187 5.73409864 5.724149   5.40244412 6.63951547 6.51348675\n",
      " 5.94635753 5.93640789 7.06403325 6.36424222]\n",
      "Colorado          5.358946\n",
      "Idaho             6.319992\n",
      "South Dakota      4.097629\n",
      "West Virginia     8.104809\n",
      "Arizona           9.274588\n",
      "Louisiana         7.812949\n",
      "Oregon            7.849271\n",
      "Kansas            4.178851\n",
      "Texas             5.894519\n",
      "North Carolina    6.708099\n",
      "Name: unemployment, dtype: float64\n"
     ]
    }
   ],
   "source": [
    "# seperate your X (features) and your Y (target)\n",
    "features1 = facts[[\"White\"]]\n",
    "target1 = rate[\"unemployment\"]\n",
    "\n",
    "# train test split your data with 20% being used for testing\n",
    "x_train, x_test, y_train, y_test = train_test_split(features1, target1, test_size=0.2, random_state=20)\n",
    "\n",
    "#using linear regression model\n",
    "party_model = LinearRegression()\n",
    "\n",
    "#fit model using train data\n",
    "party_model.fit(x_train, y_train)\n",
    "\n",
    "# store the predictions for the test sets\n",
    "party_predictions = party_model.predict(x_test)\n",
    "\n",
    "#mean square error\n",
    "party_MSE = mean_squared_error(party_predictions,y_test)\n",
    "print(\"party MSE:\", party_MSE)\n",
    "\n",
    "print(party_predictions)\n",
    "print(y_test)"
   ]
  },
  {
   "cell_type": "markdown",
   "metadata": {},
   "source": [
    "# Decision Tree"
   ]
  },
  {
   "cell_type": "code",
   "execution_count": 39,
   "metadata": {},
   "outputs": [
    {
     "name": "stdout",
     "output_type": "stream",
     "text": [
      "Train Accuracy:  0.7419354838709677\n",
      "Test Accuracy:  0.6875\n"
     ]
    }
   ],
   "source": [
    "model=tree.DecisionTreeClassifier(max_depth=5)\n",
    "X_train, X_test, y_train, y_test = train_test_split(rate[['unemployment']],rate['overallparty'],test_size=0.33)\n",
    "\n",
    "y_train=y_train.astype('float')\n",
    "y_test = y_test.astype('float')\n",
    "model.fit(X_train,y_train)\n",
    "\n",
    "dtree_pred_train = model.predict(X_train)\n",
    "dtree_pred_test = model.predict(X_test)\n",
    "print(\"Train Accuracy: \", accuracy_score(y_train, dtree_pred_train))\n",
    "print(\"Test Accuracy: \", accuracy_score(y_test,dtree_pred_test))\n"
   ]
  },
  {
   "cell_type": "markdown",
   "metadata": {},
   "source": [
    "# Write Up"
   ]
  },
  {
   "cell_type": "markdown",
   "metadata": {},
   "source": [
    "## Methodologies:"
   ]
  },
  {
   "cell_type": "markdown",
   "metadata": {},
   "source": [
    "Our question is: does the unemployment rate of a certain US state have any effect on the 2016 US presidential election results? \n",
    "\n",
    "The datasets that we have only include the unemployment rates of each state’s individual counties, as well as the number of votes for a particular candidate for each county. Therefore, we needed to create a dataframe that included the unemployment rates and number of votes for each political party for each state, rather than county. \n",
    "Creating dataframe for each state’s average unemployment rate: We did this by creating a dictionary labelled “unemployment_rate” that includes the average unemployment rates for each state.  We calculated this average unemployment rate by creating a seperate dictionary titled “dictionary” and used a for loop to sum up all of the unemployment rates for each county within a state. We divided the unemployment rate sums in “dictionary” by the number of counties within each state, which was calculated in another 3rd dictionary titled “states.” We then converted the unemployment_rate dictionary into a dataframe titled “rate.”  \n",
    "\n",
    "Creating dataframe for each state’s political party affiliation: Our other dataset for the 2016 US elections included the number of votes each candidate got for an individual county and each candidate’s affiliated party. We created a dictionary titled “democratic” that summed up all the votes for a democratic candidate within each state. We also created a separate dictionary titled “republican” that summed up all the votes for a republican candidate within each state. After converting and transposing these dictionaries to dataframes, we appended “democratic” and “republican” to the original dataframe that includes the unemployment rate. \n",
    "Additional pre-processing: We also created separate columns that calculated the overall party affiliation by comparing if there were more votes for the democratic candidates and republican candidates. This comparison was done using a for loop that compares the number of democratic and republican votes. In rate[“overallparty”] the ‘1’s stand for an overall democratic state and the ‘-1’s stand for an overall republican state.  \n"
   ]
  },
  {
   "cell_type": "markdown",
   "metadata": {},
   "source": [
    "# Inferences"
   ]
  },
  {
   "cell_type": "markdown",
   "metadata": {},
   "source": [
    "## Visualizations: \n"
   ]
  },
  {
   "cell_type": "markdown",
   "metadata": {},
   "source": [
    "Bar Graph: The motivation for this visualization was to see the number of votes for each political party averaged across the US states. From this visualization, we can observe that the overall average number of votes for the democratic party is approximately 550,000 and the average number of votes for the republican party is approximately 580,000. This visualization reveals that the number of votes between the democratic party and republican party is roughly close, although the republican party on average received more votes (~30,000) based on each state. \n",
    "\n",
    "Scatter Plot: In the scatter plot, our main goal was to visualize the relationship between the unemployment rate and the party affiliation for each state. We labelled the “democratic” party on the y-axis as 1 and the “republican” party on the y-axis as -1. The scatterplot shows that the unemployment rates for the states that voted for the republican party were relatively spread out across the range of the unemployment rate. However, the scatter plot reveals that the democratic states have higher unemployment rates, as there is more clustering of the states near unemployment rates that are higher (ie. 6.5). This makes sense because democratic candidates tend form their policies in relative favor for individuals who might not be very wealthy, while the republican candidates are typically known for having policies in favor of bigger businesses and wealthier individuals. This is also represented in our scatterplot, as the states with lower unemployment rates (ie. 3 and 4) were all overall republican. \n",
    "\n",
    "US Map: By using US Map, we want to visualize how the location of each state might be related to the affiliated political parties. The no-color states on the map mean that these states’ data is missing. Red represents Democratic, and a paler pink color represents Republican. When we put the mouse on a specific state, it will show the abbreviation of this state’s name and which party it supports(1 is Democratic, -1 is Republican). This Map visualization reveals that there are more “Republican” states than “Democratic” states in the US for the 2016 elections. This map also shows that states near the mid-west tended to vote more for the democratic party (ie. Ohio, Indiana, Tennessee), while the states on the east coast (ie Massachusetts, Virgina, North Carolina) tended to vote more on the republican party. \n"
   ]
  },
  {
   "cell_type": "markdown",
   "metadata": {},
   "source": [
    "## Machine Learning Models"
   ]
  },
  {
   "cell_type": "markdown",
   "metadata": {},
   "source": [
    "Linear regression model: \n",
    "For this model, we intend to find the overall relationship between percentage of white population and unemployment rate. It shows that there is a negative relationship (coefficient is -0.03316545), which means that from the data we have, the result shows that if there is a larger population of white people, there is a lower unemployment rate in this state. However, it is not a very strong relationship because the absolute value of coefficient is far away from 1. Therefore, we cannot just use white population fraction to predict unemployment rate through linear regression model. Moreover, we calculate the mean square error for our model. It’s approximately 2.78, which is a little bit high. This number means that our model does not fit our data perfectly, and we can find better models in the future study when we learn more models. When we find a better model, we could use this model to predict the unemployment rate in a specific state and provide an advanced view for governors. Thus, they are able to take action earlier and faster, providing a better environment for every race.  \n",
    "\n",
    "DecisionTreeClassifier: \n",
    "For this classification model, we want to use each state’s unemployment rate to predict which overall party this state will be in. We try to change the max_depth for our decision tree.When we increase the max_depth, the train score will increase. When we decrease the max_depth, the test accuracy will increase a little bit. Max_depth of 5 works best for us since higher train accuracy may mean overfitting. Our train accuracy is nearly 0.71, which is close to 1. This means that our decision tree model fits the training data well and could classify most data in the training package. At the same time, we calculate the test accuracy to see if our DecisionTreeClassifier could apply to more data and be used in other situations. Everytime we run the DecisionTreeClassifier, it will give different test accuracy. The least one is nearly 0.4 and the largest one is nearly 0.7. It depends on how the model DecisionTreeClassifier is trained (different conditions to make the decision). We can use this model to predict which party would the state support according to its unemployment rate. It is useful for candidates in the election.\n"
   ]
  },
  {
   "cell_type": "code",
   "execution_count": null,
   "metadata": {},
   "outputs": [],
   "source": []
  }
 ],
 "metadata": {
  "kernelspec": {
   "display_name": "Python 3",
   "language": "python",
   "name": "python3"
  },
  "language_info": {
   "codemirror_mode": {
    "name": "ipython",
    "version": 3
   },
   "file_extension": ".py",
   "mimetype": "text/x-python",
   "name": "python",
   "nbconvert_exporter": "python",
   "pygments_lexer": "ipython3",
   "version": "3.6.5"
  }
 },
 "nbformat": 4,
 "nbformat_minor": 2
}
